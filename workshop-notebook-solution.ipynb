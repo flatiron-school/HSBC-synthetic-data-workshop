{
 "cells": [
  {
   "cell_type": "markdown",
   "metadata": {},
   "source": [
    "# Generating Synthetic Data with Python\n",
    "\n",
    "Hand's on workshop covering synthetic data with Python.\n",
    "\n",
    "**Agenda**:\n",
    "- Overview\n",
    "- Bootstrapping\n",
    "- SMOTE\n",
    "- Image Augmentation\n",
    "- Synthetic Data Vault (SDV)"
   ]
  },
  {
   "cell_type": "markdown",
   "metadata": {},
   "source": [
    "## Overview\n",
    "\n",
    "### What is synthetic data?\n",
    "\n",
    "Data that is not \"real\", but has been generated to reflect some real world data or process. \n",
    "\n",
    "Data access can be challenging:\n",
    "- Limited resources\n",
    "- Privacy concerns\n",
    "\n",
    "Synthetic data is becoming a prominent strategy to improve data access against both of these cases.\n",
    "\n",
    "\n",
    "### How do we create synthetic data?\n",
    "\n",
    "Two primary methods:\n",
    "1. Simulate real data\n",
    "2. Use existing model or background knowledge\n",
    "\n",
    "![Generation Process](images/Synthetic-data-generation.png)\n",
    "\n",
    "\n",
    "### Key Ideas\n",
    "\n",
    "- **Utility**: how accurately synthetic data reflects real data or process\n",
    "    - Depends on use case\n",
    "- **Anonymization**: ensure protection of sensitive information\n",
    "- **Reproducibiliy**: generation process can be replicated"
   ]
  },
  {
   "cell_type": "code",
   "execution_count": 1,
   "metadata": {},
   "outputs": [],
   "source": [
    "# Import Basic Packages (some others will be imported later)\n",
    "import os\n",
    "import pandas as pd\n",
    "import numpy as np\n",
    "import matplotlib.pyplot as plt\n",
    "from scipy import stats\n",
    "import warnings\n",
    "warnings.filterwarnings('ignore')\n",
    "\n",
    "# Classification models/metrics\n",
    "from sklearn.model_selection import train_test_split\n",
    "from sklearn.linear_model import LogisticRegression\n",
    "\n",
    "# Functions from .py file\n",
    "from src.funcs import plot_hist, plot_churn, model_churn, plot_grid"
   ]
  },
  {
   "cell_type": "markdown",
   "metadata": {},
   "source": [
    "## Bootstrap\n",
    "\n",
    "Monte Carlo Simulation approach to estimate the uncertainty of a statistic or estimator. Any sample taken from a population includes an inherent error from the randomness of the sampling process itself. We use the Bootstrap method to infer how other samples taken from the same population would have differed due to random error, and thus produce some idea of the uncertainty in our original sample. \n",
    "\n",
    "At a high level the process is as follows:\n",
    "1. Take random sample from a population\n",
    "1. Consider the sample to be the population\n",
    "1. Repeatedly sample *with replacement* from original sample to create *bootstrap samples*\n",
    "\n",
    "\n",
    "In this sense, we can consider each bootstrap sample to be a synthetic set of data points which represent what the original sample *could* have been. We can achieve similar results to the Central Limit Theorem, only using a single sample!\n",
    "\n",
    "Let's look at an example with a dataset below. We will read pandas Series on profits for sales of a store."
   ]
  },
  {
   "cell_type": "code",
   "execution_count": 2,
   "metadata": {},
   "outputs": [
    {
     "data": {
      "text/plain": [
       "0     41.9136\n",
       "1    219.5820\n",
       "2      6.8714\n",
       "3      2.5164\n",
       "4     14.1694\n",
       "Name: Profit, dtype: float64"
      ]
     },
     "execution_count": 2,
     "metadata": {},
     "output_type": "execute_result"
    }
   ],
   "source": [
    "pop_profit = pd.read_csv('data/profits.csv')['Profit']\n",
    "pop_profit.head()"
   ]
  },
  {
   "cell_type": "code",
   "execution_count": 6,
   "metadata": {},
   "outputs": [
    {
     "data": {
      "text/plain": [
       "8038"
      ]
     },
     "execution_count": 6,
     "metadata": {},
     "output_type": "execute_result"
    }
   ],
   "source": [
    "len(pop_profit)"
   ]
  },
  {
   "cell_type": "markdown",
   "metadata": {},
   "source": [
    "#### Tasks:\n",
    "- Take random sample of n=250\n",
    "- Explore distribution of sample\n",
    "- Take 10,000 bootstrap resamples\n",
    "- Explore distribution of 4 bootstrap resamples\n",
    "- Construct bootstrap sampling distribution\n",
    "- Calculate 90% confidence interval to estimate population mean"
   ]
  },
  {
   "cell_type": "code",
   "execution_count": 3,
   "metadata": {},
   "outputs": [],
   "source": [
    "# Take sample of n=250\n",
    "profits_sample = pop_profit.sample(n=250, random_state=42)"
   ]
  },
  {
   "cell_type": "code",
   "execution_count": 4,
   "metadata": {},
   "outputs": [
    {
     "data": {
      "image/png": "[encoded data removed]",
      "text/plain": [
       "<Figure size 720x432 with 1 Axes>"
      ]
     },
     "metadata": {
      "needs_background": "light"
     },
     "output_type": "display_data"
    }
   ],
   "source": [
    "plot_hist(data=profits_sample, title='Sample Distribution of Profit (n=250)', label='Profit($)')"
   ]
  },
  {
   "cell_type": "code",
   "execution_count": 5,
   "metadata": {},
   "outputs": [
    {
     "name": "stdout",
     "output_type": "stream",
     "text": [
      "Sample mean profit:  42.547162799999995\n"
     ]
    }
   ],
   "source": [
    "print('Sample mean profit: ', profits_sample.mean())"
   ]
  },
  {
   "cell_type": "code",
   "execution_count": 8,
   "metadata": {},
   "outputs": [],
   "source": [
    "bootstrap_samples = []\n",
    "bootstrap_dist = []\n",
    "\n",
    "for rs in range(10000):\n",
    "    boot_samp = profits_sample.sample(n=250, replace=True, random_state=rs)\n",
    "    bootstrap_samples.append(boot_samp)\n",
    "    \n",
    "    boot_mean = boot_samp.mean()\n",
    "    bootstrap_dist.append(boot_mean)"
   ]
  },
  {
   "cell_type": "code",
   "execution_count": 9,
   "metadata": {},
   "outputs": [
    {
     "data": {
      "image/png": "[encoded data removed]",
      "text/plain": [
       "<Figure size 720x576 with 4 Axes>"
      ]
     },
     "metadata": {
      "needs_background": "light"
     },
     "output_type": "display_data"
    }
   ],
   "source": [
    "fig, ax = plt.subplots(nrows=2, ncols=2, figsize=(10,8))\n",
    "for i in range(2):\n",
    "    for j in range(2):\n",
    "        ax[i][j].hist(bootstrap_samples[i*2+j])"
   ]
  },
  {
   "cell_type": "code",
   "execution_count": 10,
   "metadata": {},
   "outputs": [
    {
     "name": "stdout",
     "output_type": "stream",
     "text": [
      "Mean of 10,000 bootstrap resamples:  42.60927490768\n"
     ]
    }
   ],
   "source": [
    "print('Mean of 10,000 bootstrap resamples: ', np.mean(bootstrap_dist))"
   ]
  },
  {
   "cell_type": "code",
   "execution_count": 12,
   "metadata": {},
   "outputs": [
    {
     "data": {
      "image/png": "[encoded data removed]",
      "text/plain": [
       "<Figure size 720x432 with 1 Axes>"
      ]
     },
     "metadata": {
      "needs_background": "light"
     },
     "output_type": "display_data"
    }
   ],
   "source": [
    "plot_hist(data=bootstrap_dist, title='Bootstrap Sample Distribution (n=10,000)', label='Profit($)')"
   ]
  },
  {
   "cell_type": "markdown",
   "metadata": {},
   "source": [
    "Construct a 90% confidence interval\n",
    "\n",
    "Cut off the top and bottom 5% of the data."
   ]
  },
  {
   "cell_type": "code",
   "execution_count": 13,
   "metadata": {},
   "outputs": [],
   "source": [
    "bootstrap_sorted = np.sort(bootstrap_dist)"
   ]
  },
  {
   "cell_type": "code",
   "execution_count": 14,
   "metadata": {},
   "outputs": [
    {
     "name": "stdout",
     "output_type": "stream",
     "text": [
      "Lower index:  500\n",
      "Upper index:  9500\n"
     ]
    }
   ],
   "source": [
    "lower_idx, upper_idx = int(len(bootstrap_dist) * .05), int(len(bootstrap_dist) * .95)\n",
    "\n",
    "print('Lower index: ', lower_idx)\n",
    "print('Upper index: ', upper_idx)"
   ]
  },
  {
   "cell_type": "code",
   "execution_count": 15,
   "metadata": {},
   "outputs": [],
   "source": [
    "lower_bound, upper_bound = bootstrap_sorted[lower_idx], bootstrap_sorted[upper_idx]"
   ]
  },
  {
   "cell_type": "code",
   "execution_count": 17,
   "metadata": {},
   "outputs": [
    {
     "name": "stdout",
     "output_type": "stream",
     "text": [
      "90% confidence interval of the bootstrap sampling distribution of mean profit:  (32.7387372, 53.590760800000005)\n"
     ]
    }
   ],
   "source": [
    "print('90% confidence interval of the bootstrap sampling distribution of mean profit: ', (lower_bound, upper_bound))"
   ]
  },
  {
   "cell_type": "code",
   "execution_count": 18,
   "metadata": {},
   "outputs": [
    {
     "data": {
      "image/png": "[encoded data removed]",
      "text/plain": [
       "<Figure size 720x432 with 1 Axes>"
      ]
     },
     "metadata": {
      "needs_background": "light"
     },
     "output_type": "display_data"
    }
   ],
   "source": [
    "plot_hist(data=bootstrap_dist, title='Bootstrap Distribution (n=10,000) 90% CI',\n",
    "        label='Profit($)', vlines=[lower_bound, upper_bound])"
   ]
  },
  {
   "cell_type": "markdown",
   "metadata": {},
   "source": [
    "Explore population distribution"
   ]
  },
  {
   "cell_type": "code",
   "execution_count": 19,
   "metadata": {},
   "outputs": [
    {
     "data": {
      "image/png": "[encoded data removed]",
      "text/plain": [
       "<Figure size 720x432 with 1 Axes>"
      ]
     },
     "metadata": {
      "needs_background": "light"
     },
     "output_type": "display_data"
    }
   ],
   "source": [
    "plot_hist(data=pop_profit, title='Population Distribution Profit', label='Profit($)')"
   ]
  },
  {
   "cell_type": "code",
   "execution_count": 20,
   "metadata": {},
   "outputs": [
    {
     "name": "stdout",
     "output_type": "stream",
     "text": [
      "Mean Profit of Population:  46.91932211993033\n"
     ]
    }
   ],
   "source": [
    "print('Mean Profit of Population: ', pop_profit.mean())"
   ]
  },
  {
   "cell_type": "code",
   "execution_count": 21,
   "metadata": {},
   "outputs": [
    {
     "name": "stdout",
     "output_type": "stream",
     "text": [
      "Original Sample Mean:  42.547162799999995\n"
     ]
    }
   ],
   "source": [
    "print('Original Sample Mean: ', profits_sample.mean())"
   ]
  },
  {
   "cell_type": "markdown",
   "metadata": {},
   "source": [
    "## SMOTE\n",
    "\n",
    "Synthetic Minority Over-sampling Technique is a strategy used to address a very common challenge in machine learning: class imbalance. Class imbalance refers to classification problems with one class in the dataset being more prevalent than others. \n",
    "\n",
    "Examples include:\n",
    "- Fraud\n",
    "- Medical scans\n",
    "- Car crashes\n",
    "\n",
    "A model trained on an imbalanced dataset will naturally be biased to predict the majority class. A common method to counteract this issue involves generating synthetic observations of the minority class. We can give the model more data to learn from without investing additional resources to collect real data!\n",
    "\n",
    "The example below looks at a the [Telecom Churn](https://www.kaggle.com/datasets/mnassrib/telecom-churn-datasets?select=churn-bigml-80.csv) dataset. Our goal is to use information on customer behavior to predict whether or not the customer cancels their subscription (churn)."
   ]
  },
  {
   "cell_type": "code",
   "execution_count": 22,
   "metadata": {},
   "outputs": [
    {
     "data": {
      "text/html": [
       "<div>\n",
       "<style scoped>\n",
       "    .dataframe tbody tr th:only-of-type {\n",
       "        vertical-align: middle;\n",
       "    }\n",
       "\n",
       "    .dataframe tbody tr th {\n",
       "        vertical-align: top;\n",
       "    }\n",
       "\n",
       "    .dataframe thead th {\n",
       "        text-align: right;\n",
       "    }\n",
       "</style>\n",
       "<table border=\"1\" class=\"dataframe\">\n",
       "  <thead>\n",
       "    <tr style=\"text-align: right;\">\n",
       "      <th></th>\n",
       "      <th>State</th>\n",
       "      <th>Account length</th>\n",
       "      <th>Area code</th>\n",
       "      <th>International plan</th>\n",
       "      <th>Voice mail plan</th>\n",
       "      <th>Number vmail messages</th>\n",
       "      <th>Total day minutes</th>\n",
       "      <th>Total day calls</th>\n",
       "      <th>Total day charge</th>\n",
       "      <th>Total eve minutes</th>\n",
       "      <th>Total eve calls</th>\n",
       "      <th>Total eve charge</th>\n",
       "      <th>Total night minutes</th>\n",
       "      <th>Total night calls</th>\n",
       "      <th>Total night charge</th>\n",
       "      <th>Total intl minutes</th>\n",
       "      <th>Total intl calls</th>\n",
       "      <th>Total intl charge</th>\n",
       "      <th>Customer service calls</th>\n",
       "      <th>Churn</th>\n",
       "    </tr>\n",
       "  </thead>\n",
       "  <tbody>\n",
       "    <tr>\n",
       "      <th>0</th>\n",
       "      <td>KS</td>\n",
       "      <td>128</td>\n",
       "      <td>415</td>\n",
       "      <td>No</td>\n",
       "      <td>Yes</td>\n",
       "      <td>25</td>\n",
       "      <td>265.1</td>\n",
       "      <td>110</td>\n",
       "      <td>45.07</td>\n",
       "      <td>197.4</td>\n",
       "      <td>99</td>\n",
       "      <td>16.78</td>\n",
       "      <td>244.7</td>\n",
       "      <td>91</td>\n",
       "      <td>11.01</td>\n",
       "      <td>10.0</td>\n",
       "      <td>3</td>\n",
       "      <td>2.70</td>\n",
       "      <td>1</td>\n",
       "      <td>False</td>\n",
       "    </tr>\n",
       "    <tr>\n",
       "      <th>1</th>\n",
       "      <td>OH</td>\n",
       "      <td>107</td>\n",
       "      <td>415</td>\n",
       "      <td>No</td>\n",
       "      <td>Yes</td>\n",
       "      <td>26</td>\n",
       "      <td>161.6</td>\n",
       "      <td>123</td>\n",
       "      <td>27.47</td>\n",
       "      <td>195.5</td>\n",
       "      <td>103</td>\n",
       "      <td>16.62</td>\n",
       "      <td>254.4</td>\n",
       "      <td>103</td>\n",
       "      <td>11.45</td>\n",
       "      <td>13.7</td>\n",
       "      <td>3</td>\n",
       "      <td>3.70</td>\n",
       "      <td>1</td>\n",
       "      <td>False</td>\n",
       "    </tr>\n",
       "    <tr>\n",
       "      <th>2</th>\n",
       "      <td>NJ</td>\n",
       "      <td>137</td>\n",
       "      <td>415</td>\n",
       "      <td>No</td>\n",
       "      <td>No</td>\n",
       "      <td>0</td>\n",
       "      <td>243.4</td>\n",
       "      <td>114</td>\n",
       "      <td>41.38</td>\n",
       "      <td>121.2</td>\n",
       "      <td>110</td>\n",
       "      <td>10.30</td>\n",
       "      <td>162.6</td>\n",
       "      <td>104</td>\n",
       "      <td>7.32</td>\n",
       "      <td>12.2</td>\n",
       "      <td>5</td>\n",
       "      <td>3.29</td>\n",
       "      <td>0</td>\n",
       "      <td>False</td>\n",
       "    </tr>\n",
       "    <tr>\n",
       "      <th>3</th>\n",
       "      <td>OH</td>\n",
       "      <td>84</td>\n",
       "      <td>408</td>\n",
       "      <td>Yes</td>\n",
       "      <td>No</td>\n",
       "      <td>0</td>\n",
       "      <td>299.4</td>\n",
       "      <td>71</td>\n",
       "      <td>50.90</td>\n",
       "      <td>61.9</td>\n",
       "      <td>88</td>\n",
       "      <td>5.26</td>\n",
       "      <td>196.9</td>\n",
       "      <td>89</td>\n",
       "      <td>8.86</td>\n",
       "      <td>6.6</td>\n",
       "      <td>7</td>\n",
       "      <td>1.78</td>\n",
       "      <td>2</td>\n",
       "      <td>False</td>\n",
       "    </tr>\n",
       "    <tr>\n",
       "      <th>4</th>\n",
       "      <td>OK</td>\n",
       "      <td>75</td>\n",
       "      <td>415</td>\n",
       "      <td>Yes</td>\n",
       "      <td>No</td>\n",
       "      <td>0</td>\n",
       "      <td>166.7</td>\n",
       "      <td>113</td>\n",
       "      <td>28.34</td>\n",
       "      <td>148.3</td>\n",
       "      <td>122</td>\n",
       "      <td>12.61</td>\n",
       "      <td>186.9</td>\n",
       "      <td>121</td>\n",
       "      <td>8.41</td>\n",
       "      <td>10.1</td>\n",
       "      <td>3</td>\n",
       "      <td>2.73</td>\n",
       "      <td>3</td>\n",
       "      <td>False</td>\n",
       "    </tr>\n",
       "  </tbody>\n",
       "</table>\n",
       "</div>"
      ],
      "text/plain": [
       "  State  Account length  Area code International plan Voice mail plan  \\\n",
       "0    KS             128        415                 No             Yes   \n",
       "1    OH             107        415                 No             Yes   \n",
       "2    NJ             137        415                 No              No   \n",
       "3    OH              84        408                Yes              No   \n",
       "4    OK              75        415                Yes              No   \n",
       "\n",
       "   Number vmail messages  Total day minutes  Total day calls  \\\n",
       "0                     25              265.1              110   \n",
       "1                     26              161.6              123   \n",
       "2                      0              243.4              114   \n",
       "3                      0              299.4               71   \n",
       "4                      0              166.7              113   \n",
       "\n",
       "   Total day charge  Total eve minutes  Total eve calls  Total eve charge  \\\n",
       "0             45.07              197.4               99             16.78   \n",
       "1             27.47              195.5              103             16.62   \n",
       "2             41.38              121.2              110             10.30   \n",
       "3             50.90               61.9               88              5.26   \n",
       "4             28.34              148.3              122             12.61   \n",
       "\n",
       "   Total night minutes  Total night calls  Total night charge  \\\n",
       "0                244.7                 91               11.01   \n",
       "1                254.4                103               11.45   \n",
       "2                162.6                104                7.32   \n",
       "3                196.9                 89                8.86   \n",
       "4                186.9                121                8.41   \n",
       "\n",
       "   Total intl minutes  Total intl calls  Total intl charge  \\\n",
       "0                10.0                 3               2.70   \n",
       "1                13.7                 3               3.70   \n",
       "2                12.2                 5               3.29   \n",
       "3                 6.6                 7               1.78   \n",
       "4                10.1                 3               2.73   \n",
       "\n",
       "   Customer service calls  Churn  \n",
       "0                       1  False  \n",
       "1                       1  False  \n",
       "2                       0  False  \n",
       "3                       2  False  \n",
       "4                       3  False  "
      ]
     },
     "execution_count": 22,
     "metadata": {},
     "output_type": "execute_result"
    }
   ],
   "source": [
    "# Read churn csv into DataFrame\n",
    "df = pd.read_csv('data/churn-bigml-80.csv')\n",
    "df.head()"
   ]
  },
  {
   "cell_type": "markdown",
   "metadata": {},
   "source": [
    "#### Tasks:\n",
    "- Explore distribution of target variable\n",
    "- Train model on original, imbalanced data\n",
    "- Generate synthetic samples of minority class\n",
    "- Train new model and compare results"
   ]
  },
  {
   "cell_type": "code",
   "execution_count": 23,
   "metadata": {},
   "outputs": [
    {
     "data": {
      "image/png": "[encoded data removed]",
      "text/plain": [
       "<Figure size 720x432 with 1 Axes>"
      ]
     },
     "metadata": {
      "needs_background": "light"
     },
     "output_type": "display_data"
    }
   ],
   "source": [
    "plot_churn(df)"
   ]
  },
  {
   "cell_type": "code",
   "execution_count": 24,
   "metadata": {},
   "outputs": [],
   "source": [
    "# Separate features and target\n",
    "X = df.select_dtypes(include='number').drop(columns='Area code')\n",
    "y = df['Churn']\n",
    "\n",
    "# Train Test Split\n",
    "X_train, X_test, y_train, y_test = train_test_split(X, y, test_size=.2, random_state=42)"
   ]
  },
  {
   "cell_type": "code",
   "execution_count": 25,
   "metadata": {},
   "outputs": [
    {
     "data": {
      "image/png": "[encoded data removed]",
      "text/plain": [
       "<Figure size 432x288 with 1 Axes>"
      ]
     },
     "metadata": {
      "needs_background": "light"
     },
     "output_type": "display_data"
    }
   ],
   "source": [
    "y_train.value_counts(normalize=True).plot.bar();"
   ]
  },
  {
   "cell_type": "code",
   "execution_count": 26,
   "metadata": {},
   "outputs": [
    {
     "data": {
      "image/png": "[encoded data removed]",
      "text/plain": [
       "<Figure size 432x288 with 1 Axes>"
      ]
     },
     "metadata": {
      "needs_background": "light"
     },
     "output_type": "display_data"
    }
   ],
   "source": [
    "y_test.value_counts(normalize=True).plot.bar();"
   ]
  },
  {
   "cell_type": "code",
   "execution_count": 27,
   "metadata": {},
   "outputs": [],
   "source": [
    "# Instantiate LogisticRegression\n",
    "model1 = LogisticRegression(random_state=42, max_iter=500)"
   ]
  },
  {
   "cell_type": "code",
   "execution_count": 28,
   "metadata": {},
   "outputs": [
    {
     "name": "stdout",
     "output_type": "stream",
     "text": [
      "Training Accuracy:  0.8574108818011257\n",
      "Testing Accuracy:  0.8595505617977528\n",
      "-------------------\n",
      "Training Precision:  0.5555555555555556\n",
      "Testing Precision:  0.6428571428571429\n",
      "-------------------\n",
      "Training Recall:  0.08090614886731391\n",
      "Testing Recall:  0.11392405063291139\n",
      "-------------------\n"
     ]
    },
    {
     "data": {
      "image/png": "[encoded data removed]",
      "text/plain": [
       "<Figure size 720x432 with 4 Axes>"
      ]
     },
     "metadata": {
      "needs_background": "light"
     },
     "output_type": "display_data"
    }
   ],
   "source": [
    "model_churn(model1, X_train, X_test, y_train, y_test)"
   ]
  },
  {
   "cell_type": "code",
   "execution_count": 29,
   "metadata": {},
   "outputs": [],
   "source": [
    "# # Import SMOTE (Synthetic Minority Over-sampling Technique)\n",
    "from imblearn.over_sampling import SMOTE"
   ]
  },
  {
   "cell_type": "code",
   "execution_count": 30,
   "metadata": {},
   "outputs": [],
   "source": [
    "X_resampled, y_resampled = SMOTE(random_state=42).fit_resample(X_train, y_train)"
   ]
  },
  {
   "cell_type": "code",
   "execution_count": 31,
   "metadata": {},
   "outputs": [
    {
     "data": {
      "image/png": "[encoded data removed]",
      "text/plain": [
       "<Figure size 720x432 with 1 Axes>"
      ]
     },
     "metadata": {
      "needs_background": "light"
     },
     "output_type": "display_data"
    }
   ],
   "source": [
    "y_resampled.astype(str).value_counts(normalize=True).plot.bar(figsize=(10,6)).set(\n",
    "    title='Distribution of Churn in Resampled Data',\n",
    "    xlabel='Churn (Yes or No)',\n",
    "    ylabel='Percentage of Observations'\n",
    ");"
   ]
  },
  {
   "cell_type": "code",
   "execution_count": 32,
   "metadata": {},
   "outputs": [],
   "source": [
    "model2 = LogisticRegression(random_state=42, max_iter=500)"
   ]
  },
  {
   "cell_type": "code",
   "execution_count": 33,
   "metadata": {},
   "outputs": [
    {
     "name": "stdout",
     "output_type": "stream",
     "text": [
      "Training Accuracy:  0.6889742183214481\n",
      "Testing Accuracy:  0.6835205992509363\n",
      "-------------------\n",
      "Training Precision:  0.6845206213176218\n",
      "Testing Precision:  0.27941176470588236\n",
      "-------------------\n",
      "Training Recall:  0.7010422380691168\n",
      "Testing Recall:  0.7215189873417721\n",
      "-------------------\n"
     ]
    },
    {
     "data": {
      "image/png": "[encoded data removed]",
      "text/plain": [
       "<Figure size 720x432 with 4 Axes>"
      ]
     },
     "metadata": {
      "needs_background": "light"
     },
     "output_type": "display_data"
    }
   ],
   "source": [
    "model_churn(model2, X_resampled, X_test, y_resampled, y_test)"
   ]
  },
  {
   "cell_type": "code",
   "execution_count": 34,
   "metadata": {},
   "outputs": [],
   "source": [
    "from imblearn.over_sampling import ADASYN"
   ]
  },
  {
   "cell_type": "code",
   "execution_count": 35,
   "metadata": {},
   "outputs": [],
   "source": [
    "X_resampled2, y_resampled2 = ADASYN(random_state=42).fit_resample(X_train, y_train)"
   ]
  },
  {
   "cell_type": "code",
   "execution_count": 36,
   "metadata": {},
   "outputs": [
    {
     "data": {
      "image/png": "[encoded data removed]",
      "text/plain": [
       "<Figure size 720x432 with 1 Axes>"
      ]
     },
     "metadata": {
      "needs_background": "light"
     },
     "output_type": "display_data"
    }
   ],
   "source": [
    "y_resampled2.astype(str).value_counts(normalize=True).plot.bar(figsize=(10,6)).set(\n",
    "    title='Distribution of Churn in Resampled Data',\n",
    "    xlabel='Churn (Yes or No)',\n",
    "    ylabel='Percentage of Observations'\n",
    ");"
   ]
  },
  {
   "cell_type": "code",
   "execution_count": 37,
   "metadata": {},
   "outputs": [
    {
     "name": "stdout",
     "output_type": "stream",
     "text": [
      "Training Accuracy:  0.6676638564046777\n",
      "Testing Accuracy:  0.651685393258427\n",
      "-------------------\n",
      "Training Precision:  0.6645833333333333\n",
      "Testing Precision:  0.2643171806167401\n",
      "-------------------\n",
      "Training Recall:  0.6882416396979504\n",
      "Testing Recall:  0.759493670886076\n",
      "-------------------\n"
     ]
    },
    {
     "data": {
      "image/png": "[encoded data removed]",
      "text/plain": [
       "<Figure size 720x432 with 4 Axes>"
      ]
     },
     "metadata": {
      "needs_background": "light"
     },
     "output_type": "display_data"
    }
   ],
   "source": [
    "model_churn(model2, X_resampled2, X_test, y_resampled2, y_test)"
   ]
  },
  {
   "cell_type": "markdown",
   "metadata": {},
   "source": [
    "## Image Augmentation\n",
    "\n",
    "> \"Data augmentation is a strategy that enables practitioners to significantly increase the diversity of data available for training models, without actually collecting new data.\" [Berkeley Artifical Intelligence Research](https://bair.berkeley.edu/blog/2019/06/07/data_aug/)\n",
    "\n",
    "Let's look at a simple example with the MNIST dataset on images of hand-written digits. The following example is taken from this [article](https://machinelearningmastery.com/image-augmentation-deep-learning-keras/).\n",
    "\n",
    "#### Tasks:\n",
    "- Load MNIST data\n",
    "- Explore basic images\n",
    "- [Tensorflow Image Augmentation](https://www.tensorflow.org/api_docs/python/tf/keras/preprocessing/image/ImageDataGenerator) tool\n",
    "- Create full dataset"
   ]
  },
  {
   "cell_type": "code",
   "execution_count": 38,
   "metadata": {},
   "outputs": [],
   "source": [
    "# Import MNIST dataset\n",
    "from tensorflow.keras.datasets import mnist"
   ]
  },
  {
   "cell_type": "code",
   "execution_count": 39,
   "metadata": {},
   "outputs": [],
   "source": [
    "# Load Data\n",
    "(X_train, y_train), (X_test, y_test) = mnist.load_data()\n",
    "\n",
    "# Standardize images and convert to float\n",
    "X_train = X_train.reshape((X_train.shape[0], 28, 28, 1))\n",
    "X_test = X_test.reshape((X_test.shape[0], 28, 28, 1))\n",
    "X_train = X_train.astype('float32')\n",
    "X_test = X_test.astype('float32')"
   ]
  },
  {
   "cell_type": "code",
   "execution_count": 40,
   "metadata": {},
   "outputs": [
    {
     "data": {
      "image/png": "[encoded data removed]",
      "text/plain": [
       "<Figure size 360x360 with 9 Axes>"
      ]
     },
     "metadata": {
      "needs_background": "light"
     },
     "output_type": "display_data"
    }
   ],
   "source": [
    "# Explore original data\n",
    "plot_grid(X_train)"
   ]
  },
  {
   "cell_type": "code",
   "execution_count": 41,
   "metadata": {},
   "outputs": [],
   "source": [
    "# Import Tensorflow Image Augmentation Tool\n",
    "from tensorflow.keras.preprocessing.image import ImageDataGenerator"
   ]
  },
  {
   "cell_type": "code",
   "execution_count": 42,
   "metadata": {},
   "outputs": [],
   "source": [
    "# Instantiate image augmentation object with zoom_range\n",
    "datagen = ImageDataGenerator(zoom_range=.5)"
   ]
  },
  {
   "cell_type": "code",
   "execution_count": 43,
   "metadata": {},
   "outputs": [
    {
     "data": {
      "image/png": "[encoded data removed]",
      "text/plain": [
       "<Figure size 360x360 with 9 Axes>"
      ]
     },
     "metadata": {
      "needs_background": "light"
     },
     "output_type": "display_data"
    }
   ],
   "source": [
    "for X_batch, y_batch in datagen.flow(X_train, y_train, batch_size=9, shuffle=False):\n",
    "    plot_grid(X_batch)\n",
    "    break"
   ]
  },
  {
   "cell_type": "code",
   "execution_count": 46,
   "metadata": {},
   "outputs": [],
   "source": [
    "datagen2 = ImageDataGenerator(zoom_range=.35, rotation_range=45, width_shift_range=.15,\n",
    "                             height_shift_range=.15)"
   ]
  },
  {
   "cell_type": "code",
   "execution_count": 47,
   "metadata": {},
   "outputs": [
    {
     "data": {
      "image/png": "[encoded data removed]",
      "text/plain": [
       "<Figure size 360x360 with 9 Axes>"
      ]
     },
     "metadata": {
      "needs_background": "light"
     },
     "output_type": "display_data"
    }
   ],
   "source": [
    "for X_batch, y_batch in datagen2.flow(X_train, y_train, batch_size=9, shuffle=False):\n",
    "    plot_grid(X_batch)\n",
    "    break"
   ]
  },
  {
   "cell_type": "code",
   "execution_count": 48,
   "metadata": {},
   "outputs": [],
   "source": [
    "!mkdir aug_images"
   ]
  },
  {
   "cell_type": "code",
   "execution_count": 49,
   "metadata": {},
   "outputs": [
    {
     "name": "stdout",
     "output_type": "stream",
     "text": [
      "Generating_Synthetic_Data.pdf    \u001b[1m\u001b[36mdata\u001b[m\u001b[m\r\n",
      "README.md                        environment.yml\r\n",
      "Untitled.ipynb                   \u001b[1m\u001b[36mimages\u001b[m\u001b[m\r\n",
      "Untitled1.ipynb                  \u001b[1m\u001b[36msrc\u001b[m\u001b[m\r\n",
      "\u001b[1m\u001b[36maug_images\u001b[m\u001b[m                       workshop-notebook-session1.ipynb\r\n",
      "\u001b[1m\u001b[36maug_images2\u001b[m\u001b[m                      workshop-notebook.ipynb\r\n"
     ]
    }
   ],
   "source": [
    "!ls"
   ]
  },
  {
   "cell_type": "code",
   "execution_count": 50,
   "metadata": {},
   "outputs": [],
   "source": [
    "image_gen = datagen2.flow(X_train, y_train, batch_size=1, shuffle=False,\n",
    "                         save_to_dir='aug_images2', save_prefix='aug', save_format='jpg')"
   ]
  },
  {
   "cell_type": "code",
   "execution_count": 51,
   "metadata": {},
   "outputs": [],
   "source": [
    "total = 1000\n",
    "count = 0\n",
    "\n",
    "for image in image_gen:\n",
    "    count +=1\n",
    "    \n",
    "    if count == total:\n",
    "        break"
   ]
  },
  {
   "cell_type": "code",
   "execution_count": 52,
   "metadata": {},
   "outputs": [
    {
     "data": {
      "text/plain": [
       "1000"
      ]
     },
     "execution_count": 52,
     "metadata": {},
     "output_type": "execute_result"
    }
   ],
   "source": [
    "len(os.listdir('aug_images2'))"
   ]
  },
  {
   "cell_type": "code",
   "execution_count": null,
   "metadata": {},
   "outputs": [],
   "source": []
  },
  {
   "cell_type": "code",
   "execution_count": null,
   "metadata": {},
   "outputs": [],
   "source": []
  },
  {
   "cell_type": "markdown",
   "metadata": {},
   "source": [
    "## Synthetic Data Vault (SDV)\n",
    "\n",
    ">\"The **Synthetic Data Vault (SDV)** is a **Synthetic Data Generation** ecosystem of libraries that allows users to easily learn single-table, multi-table and timeseries datasets to later on generate new **Synthetic Data** that has the **same format and statistical properties** as the original dataset.\" [Synthetic Data Vault](https://sdv.dev/SDV/index.html)\n",
    "\n",
    "Topics to Discuss:\n",
    "- Fitting model and generating data\n",
    "- Faker and anonymizing sensitive information\n",
    "- Exploring distributions\n",
    "- Constraints and creating your own\n",
    "- Metrics to measure utility"
   ]
  },
  {
   "cell_type": "code",
   "execution_count": 53,
   "metadata": {},
   "outputs": [],
   "source": [
    "# Import SDV packages\n",
    "from sdv.demo import load_tabular_demo\n",
    "from sdv.tabular import GaussianCopula\n",
    "\n",
    "# Statistical Metrics\n",
    "from sdv.evaluation import evaluate\n",
    "\n",
    "# Distinguishability Metrics\n",
    "from sdv.metrics.tabular import LogisticDetection\n",
    "\n",
    "# Privacy Metric\n",
    "from sdv.metrics.tabular import NumericalLR"
   ]
  },
  {
   "cell_type": "code",
   "execution_count": 54,
   "metadata": {},
   "outputs": [
    {
     "data": {
      "text/html": [
       "<div>\n",
       "<style scoped>\n",
       "    .dataframe tbody tr th:only-of-type {\n",
       "        vertical-align: middle;\n",
       "    }\n",
       "\n",
       "    .dataframe tbody tr th {\n",
       "        vertical-align: top;\n",
       "    }\n",
       "\n",
       "    .dataframe thead th {\n",
       "        text-align: right;\n",
       "    }\n",
       "</style>\n",
       "<table border=\"1\" class=\"dataframe\">\n",
       "  <thead>\n",
       "    <tr style=\"text-align: right;\">\n",
       "      <th></th>\n",
       "      <th>student_id</th>\n",
       "      <th>address</th>\n",
       "      <th>gender</th>\n",
       "      <th>second_perc</th>\n",
       "      <th>high_perc</th>\n",
       "      <th>high_spec</th>\n",
       "      <th>degree_perc</th>\n",
       "      <th>degree_type</th>\n",
       "      <th>work_experience</th>\n",
       "      <th>experience_years</th>\n",
       "      <th>employability_perc</th>\n",
       "      <th>mba_spec</th>\n",
       "      <th>mba_perc</th>\n",
       "      <th>salary</th>\n",
       "      <th>placed</th>\n",
       "      <th>start_date</th>\n",
       "      <th>end_date</th>\n",
       "      <th>duration</th>\n",
       "    </tr>\n",
       "  </thead>\n",
       "  <tbody>\n",
       "    <tr>\n",
       "      <th>0</th>\n",
       "      <td>17264</td>\n",
       "      <td>70304 Baker Turnpike\\nEricborough, MS 15086</td>\n",
       "      <td>M</td>\n",
       "      <td>67.00</td>\n",
       "      <td>91.00</td>\n",
       "      <td>Commerce</td>\n",
       "      <td>58.00</td>\n",
       "      <td>Sci&amp;Tech</td>\n",
       "      <td>False</td>\n",
       "      <td>0</td>\n",
       "      <td>55.0</td>\n",
       "      <td>Mkt&amp;HR</td>\n",
       "      <td>58.80</td>\n",
       "      <td>27000.0</td>\n",
       "      <td>True</td>\n",
       "      <td>2020-07-23</td>\n",
       "      <td>2020-10-12</td>\n",
       "      <td>3.0</td>\n",
       "    </tr>\n",
       "    <tr>\n",
       "      <th>1</th>\n",
       "      <td>17265</td>\n",
       "      <td>805 Herrera Avenue Apt. 134\\nMaryview, NJ 36510</td>\n",
       "      <td>M</td>\n",
       "      <td>79.33</td>\n",
       "      <td>78.33</td>\n",
       "      <td>Science</td>\n",
       "      <td>77.48</td>\n",
       "      <td>Sci&amp;Tech</td>\n",
       "      <td>True</td>\n",
       "      <td>1</td>\n",
       "      <td>86.5</td>\n",
       "      <td>Mkt&amp;Fin</td>\n",
       "      <td>66.28</td>\n",
       "      <td>20000.0</td>\n",
       "      <td>True</td>\n",
       "      <td>2020-01-11</td>\n",
       "      <td>2020-04-09</td>\n",
       "      <td>3.0</td>\n",
       "    </tr>\n",
       "    <tr>\n",
       "      <th>2</th>\n",
       "      <td>17266</td>\n",
       "      <td>3702 Bradley Island\\nNorth Victor, FL 12268</td>\n",
       "      <td>M</td>\n",
       "      <td>65.00</td>\n",
       "      <td>68.00</td>\n",
       "      <td>Arts</td>\n",
       "      <td>64.00</td>\n",
       "      <td>Comm&amp;Mgmt</td>\n",
       "      <td>False</td>\n",
       "      <td>0</td>\n",
       "      <td>75.0</td>\n",
       "      <td>Mkt&amp;Fin</td>\n",
       "      <td>57.80</td>\n",
       "      <td>25000.0</td>\n",
       "      <td>True</td>\n",
       "      <td>2020-01-26</td>\n",
       "      <td>2020-07-13</td>\n",
       "      <td>6.0</td>\n",
       "    </tr>\n",
       "    <tr>\n",
       "      <th>3</th>\n",
       "      <td>17267</td>\n",
       "      <td>Unit 0879 Box 3878\\nDPO AP 42663</td>\n",
       "      <td>M</td>\n",
       "      <td>56.00</td>\n",
       "      <td>52.00</td>\n",
       "      <td>Science</td>\n",
       "      <td>52.00</td>\n",
       "      <td>Sci&amp;Tech</td>\n",
       "      <td>False</td>\n",
       "      <td>0</td>\n",
       "      <td>66.0</td>\n",
       "      <td>Mkt&amp;HR</td>\n",
       "      <td>59.43</td>\n",
       "      <td>NaN</td>\n",
       "      <td>False</td>\n",
       "      <td>NaT</td>\n",
       "      <td>NaT</td>\n",
       "      <td>NaN</td>\n",
       "    </tr>\n",
       "    <tr>\n",
       "      <th>4</th>\n",
       "      <td>17268</td>\n",
       "      <td>96493 Kelly Canyon Apt. 145\\nEast Steven, NC 3...</td>\n",
       "      <td>M</td>\n",
       "      <td>85.80</td>\n",
       "      <td>73.60</td>\n",
       "      <td>Commerce</td>\n",
       "      <td>73.30</td>\n",
       "      <td>Comm&amp;Mgmt</td>\n",
       "      <td>False</td>\n",
       "      <td>0</td>\n",
       "      <td>96.8</td>\n",
       "      <td>Mkt&amp;Fin</td>\n",
       "      <td>55.50</td>\n",
       "      <td>42500.0</td>\n",
       "      <td>True</td>\n",
       "      <td>2020-07-04</td>\n",
       "      <td>2020-09-27</td>\n",
       "      <td>3.0</td>\n",
       "    </tr>\n",
       "  </tbody>\n",
       "</table>\n",
       "</div>"
      ],
      "text/plain": [
       "   student_id                                            address gender  \\\n",
       "0       17264        70304 Baker Turnpike\\nEricborough, MS 15086      M   \n",
       "1       17265    805 Herrera Avenue Apt. 134\\nMaryview, NJ 36510      M   \n",
       "2       17266        3702 Bradley Island\\nNorth Victor, FL 12268      M   \n",
       "3       17267                   Unit 0879 Box 3878\\nDPO AP 42663      M   \n",
       "4       17268  96493 Kelly Canyon Apt. 145\\nEast Steven, NC 3...      M   \n",
       "\n",
       "   second_perc  high_perc high_spec  degree_perc degree_type  work_experience  \\\n",
       "0        67.00      91.00  Commerce        58.00    Sci&Tech            False   \n",
       "1        79.33      78.33   Science        77.48    Sci&Tech             True   \n",
       "2        65.00      68.00      Arts        64.00   Comm&Mgmt            False   \n",
       "3        56.00      52.00   Science        52.00    Sci&Tech            False   \n",
       "4        85.80      73.60  Commerce        73.30   Comm&Mgmt            False   \n",
       "\n",
       "   experience_years  employability_perc mba_spec  mba_perc   salary  placed  \\\n",
       "0                 0                55.0   Mkt&HR     58.80  27000.0    True   \n",
       "1                 1                86.5  Mkt&Fin     66.28  20000.0    True   \n",
       "2                 0                75.0  Mkt&Fin     57.80  25000.0    True   \n",
       "3                 0                66.0   Mkt&HR     59.43      NaN   False   \n",
       "4                 0                96.8  Mkt&Fin     55.50  42500.0    True   \n",
       "\n",
       "  start_date   end_date  duration  \n",
       "0 2020-07-23 2020-10-12       3.0  \n",
       "1 2020-01-11 2020-04-09       3.0  \n",
       "2 2020-01-26 2020-07-13       6.0  \n",
       "3        NaT        NaT       NaN  \n",
       "4 2020-07-04 2020-09-27       3.0  "
      ]
     },
     "execution_count": 54,
     "metadata": {},
     "output_type": "execute_result"
    }
   ],
   "source": [
    "data = load_tabular_demo('student_placements_pii')\n",
    "data.head()"
   ]
  },
  {
   "cell_type": "code",
   "execution_count": 55,
   "metadata": {},
   "outputs": [
    {
     "data": {
      "text/plain": [
       "215"
      ]
     },
     "execution_count": 55,
     "metadata": {},
     "output_type": "execute_result"
    }
   ],
   "source": [
    "len(data)"
   ]
  },
  {
   "cell_type": "code",
   "execution_count": 60,
   "metadata": {},
   "outputs": [
    {
     "name": "stdout",
     "output_type": "stream",
     "text": [
      "<class 'pandas.core.frame.DataFrame'>\n",
      "RangeIndex: 215 entries, 0 to 214\n",
      "Data columns (total 18 columns):\n",
      " #   Column              Non-Null Count  Dtype         \n",
      "---  ------              --------------  -----         \n",
      " 0   student_id          215 non-null    int64         \n",
      " 1   address             215 non-null    object        \n",
      " 2   gender              215 non-null    object        \n",
      " 3   second_perc         215 non-null    float64       \n",
      " 4   high_perc           215 non-null    float64       \n",
      " 5   high_spec           215 non-null    object        \n",
      " 6   degree_perc         215 non-null    float64       \n",
      " 7   degree_type         215 non-null    object        \n",
      " 8   work_experience     215 non-null    bool          \n",
      " 9   experience_years    215 non-null    int64         \n",
      " 10  employability_perc  215 non-null    float64       \n",
      " 11  mba_spec            215 non-null    object        \n",
      " 12  mba_perc            215 non-null    float64       \n",
      " 13  salary              148 non-null    float64       \n",
      " 14  placed              215 non-null    bool          \n",
      " 15  start_date          148 non-null    datetime64[ns]\n",
      " 16  end_date            148 non-null    datetime64[ns]\n",
      " 17  duration            148 non-null    float64       \n",
      "dtypes: bool(2), datetime64[ns](2), float64(7), int64(2), object(5)\n",
      "memory usage: 27.4+ KB\n"
     ]
    }
   ],
   "source": [
    "data.info()"
   ]
  },
  {
   "cell_type": "code",
   "execution_count": 64,
   "metadata": {},
   "outputs": [],
   "source": [
    "model1 = GaussianCopula(primary_key='student_id')"
   ]
  },
  {
   "cell_type": "code",
   "execution_count": 65,
   "metadata": {},
   "outputs": [],
   "source": [
    "model1.fit(data)"
   ]
  },
  {
   "cell_type": "code",
   "execution_count": 72,
   "metadata": {},
   "outputs": [],
   "source": [
    "new_data1 = model1.sample(len(data))"
   ]
  },
  {
   "cell_type": "code",
   "execution_count": 73,
   "metadata": {},
   "outputs": [
    {
     "data": {
      "text/html": [
       "<div>\n",
       "<style scoped>\n",
       "    .dataframe tbody tr th:only-of-type {\n",
       "        vertical-align: middle;\n",
       "    }\n",
       "\n",
       "    .dataframe tbody tr th {\n",
       "        vertical-align: top;\n",
       "    }\n",
       "\n",
       "    .dataframe thead th {\n",
       "        text-align: right;\n",
       "    }\n",
       "</style>\n",
       "<table border=\"1\" class=\"dataframe\">\n",
       "  <thead>\n",
       "    <tr style=\"text-align: right;\">\n",
       "      <th></th>\n",
       "      <th>student_id</th>\n",
       "      <th>address</th>\n",
       "      <th>gender</th>\n",
       "      <th>second_perc</th>\n",
       "      <th>high_perc</th>\n",
       "      <th>high_spec</th>\n",
       "      <th>degree_perc</th>\n",
       "      <th>degree_type</th>\n",
       "      <th>work_experience</th>\n",
       "      <th>experience_years</th>\n",
       "      <th>employability_perc</th>\n",
       "      <th>mba_spec</th>\n",
       "      <th>mba_perc</th>\n",
       "      <th>salary</th>\n",
       "      <th>placed</th>\n",
       "      <th>start_date</th>\n",
       "      <th>end_date</th>\n",
       "      <th>duration</th>\n",
       "    </tr>\n",
       "  </thead>\n",
       "  <tbody>\n",
       "    <tr>\n",
       "      <th>0</th>\n",
       "      <td>0</td>\n",
       "      <td>42261 Booth Shores\\nNorth Pattyfurt, UT 01028</td>\n",
       "      <td>M</td>\n",
       "      <td>74.37</td>\n",
       "      <td>56.95</td>\n",
       "      <td>Commerce</td>\n",
       "      <td>70.82</td>\n",
       "      <td>Comm&amp;Mgmt</td>\n",
       "      <td>False</td>\n",
       "      <td>0</td>\n",
       "      <td>86.44</td>\n",
       "      <td>Mkt&amp;HR</td>\n",
       "      <td>54.71</td>\n",
       "      <td>20021.0</td>\n",
       "      <td>True</td>\n",
       "      <td>2020-02-23 19:08:13.053103616</td>\n",
       "      <td>2020-10-03 17:48:11.425407232</td>\n",
       "      <td>8.0</td>\n",
       "    </tr>\n",
       "    <tr>\n",
       "      <th>1</th>\n",
       "      <td>1</td>\n",
       "      <td>PSC 2246, Box 1611\\nAPO AE 85767</td>\n",
       "      <td>M</td>\n",
       "      <td>68.35</td>\n",
       "      <td>62.60</td>\n",
       "      <td>Commerce</td>\n",
       "      <td>59.84</td>\n",
       "      <td>Sci&amp;Tech</td>\n",
       "      <td>False</td>\n",
       "      <td>0</td>\n",
       "      <td>73.54</td>\n",
       "      <td>Mkt&amp;HR</td>\n",
       "      <td>59.94</td>\n",
       "      <td>29983.0</td>\n",
       "      <td>True</td>\n",
       "      <td>2020-02-05 10:53:28.760486400</td>\n",
       "      <td>2020-04-28 16:19:26.677188608</td>\n",
       "      <td>3.0</td>\n",
       "    </tr>\n",
       "    <tr>\n",
       "      <th>2</th>\n",
       "      <td>2</td>\n",
       "      <td>51656 Emily Knolls\\nNorth Alyssabury, NV 19983</td>\n",
       "      <td>M</td>\n",
       "      <td>55.40</td>\n",
       "      <td>64.69</td>\n",
       "      <td>Science</td>\n",
       "      <td>65.99</td>\n",
       "      <td>Comm&amp;Mgmt</td>\n",
       "      <td>True</td>\n",
       "      <td>2</td>\n",
       "      <td>69.79</td>\n",
       "      <td>Mkt&amp;Fin</td>\n",
       "      <td>52.76</td>\n",
       "      <td>22750.0</td>\n",
       "      <td>True</td>\n",
       "      <td>2020-02-26 22:23:24.987390208</td>\n",
       "      <td>2020-10-16 15:10:20.260036608</td>\n",
       "      <td>7.0</td>\n",
       "    </tr>\n",
       "    <tr>\n",
       "      <th>3</th>\n",
       "      <td>3</td>\n",
       "      <td>82602 Wilcox Curve\\nNew Angela, OR 84462</td>\n",
       "      <td>M</td>\n",
       "      <td>74.27</td>\n",
       "      <td>66.21</td>\n",
       "      <td>Commerce</td>\n",
       "      <td>68.09</td>\n",
       "      <td>Comm&amp;Mgmt</td>\n",
       "      <td>False</td>\n",
       "      <td>0</td>\n",
       "      <td>61.68</td>\n",
       "      <td>Mkt&amp;Fin</td>\n",
       "      <td>67.42</td>\n",
       "      <td>26328.0</td>\n",
       "      <td>True</td>\n",
       "      <td>2020-01-25 17:49:46.902769920</td>\n",
       "      <td>2020-11-10 02:28:32.441205760</td>\n",
       "      <td>10.0</td>\n",
       "    </tr>\n",
       "    <tr>\n",
       "      <th>4</th>\n",
       "      <td>4</td>\n",
       "      <td>6175 Eugene Crossing\\nCurryview, OH 86092</td>\n",
       "      <td>M</td>\n",
       "      <td>57.73</td>\n",
       "      <td>76.02</td>\n",
       "      <td>Science</td>\n",
       "      <td>68.36</td>\n",
       "      <td>Comm&amp;Mgmt</td>\n",
       "      <td>True</td>\n",
       "      <td>1</td>\n",
       "      <td>57.58</td>\n",
       "      <td>Mkt&amp;Fin</td>\n",
       "      <td>54.19</td>\n",
       "      <td>30061.0</td>\n",
       "      <td>True</td>\n",
       "      <td>2020-04-18 14:22:16.572822528</td>\n",
       "      <td>2020-06-25 01:02:21.442343424</td>\n",
       "      <td>4.0</td>\n",
       "    </tr>\n",
       "  </tbody>\n",
       "</table>\n",
       "</div>"
      ],
      "text/plain": [
       "   student_id                                         address gender  \\\n",
       "0           0   42261 Booth Shores\\nNorth Pattyfurt, UT 01028      M   \n",
       "1           1                PSC 2246, Box 1611\\nAPO AE 85767      M   \n",
       "2           2  51656 Emily Knolls\\nNorth Alyssabury, NV 19983      M   \n",
       "3           3        82602 Wilcox Curve\\nNew Angela, OR 84462      M   \n",
       "4           4       6175 Eugene Crossing\\nCurryview, OH 86092      M   \n",
       "\n",
       "   second_perc  high_perc high_spec  degree_perc degree_type  work_experience  \\\n",
       "0        74.37      56.95  Commerce        70.82   Comm&Mgmt            False   \n",
       "1        68.35      62.60  Commerce        59.84    Sci&Tech            False   \n",
       "2        55.40      64.69   Science        65.99   Comm&Mgmt             True   \n",
       "3        74.27      66.21  Commerce        68.09   Comm&Mgmt            False   \n",
       "4        57.73      76.02   Science        68.36   Comm&Mgmt             True   \n",
       "\n",
       "   experience_years  employability_perc mba_spec  mba_perc   salary  placed  \\\n",
       "0                 0               86.44   Mkt&HR     54.71  20021.0    True   \n",
       "1                 0               73.54   Mkt&HR     59.94  29983.0    True   \n",
       "2                 2               69.79  Mkt&Fin     52.76  22750.0    True   \n",
       "3                 0               61.68  Mkt&Fin     67.42  26328.0    True   \n",
       "4                 1               57.58  Mkt&Fin     54.19  30061.0    True   \n",
       "\n",
       "                     start_date                      end_date  duration  \n",
       "0 2020-02-23 19:08:13.053103616 2020-10-03 17:48:11.425407232       8.0  \n",
       "1 2020-02-05 10:53:28.760486400 2020-04-28 16:19:26.677188608       3.0  \n",
       "2 2020-02-26 22:23:24.987390208 2020-10-16 15:10:20.260036608       7.0  \n",
       "3 2020-01-25 17:49:46.902769920 2020-11-10 02:28:32.441205760      10.0  \n",
       "4 2020-04-18 14:22:16.572822528 2020-06-25 01:02:21.442343424       4.0  "
      ]
     },
     "execution_count": 73,
     "metadata": {},
     "output_type": "execute_result"
    }
   ],
   "source": [
    "new_data1.head()"
   ]
  },
  {
   "cell_type": "code",
   "execution_count": 69,
   "metadata": {},
   "outputs": [
    {
     "name": "stdout",
     "output_type": "stream",
     "text": [
      "<class 'pandas.core.frame.DataFrame'>\n",
      "RangeIndex: 215 entries, 0 to 214\n",
      "Data columns (total 18 columns):\n",
      " #   Column              Non-Null Count  Dtype         \n",
      "---  ------              --------------  -----         \n",
      " 0   student_id          215 non-null    int64         \n",
      " 1   address             215 non-null    object        \n",
      " 2   gender              215 non-null    object        \n",
      " 3   second_perc         215 non-null    float64       \n",
      " 4   high_perc           215 non-null    float64       \n",
      " 5   high_spec           215 non-null    object        \n",
      " 6   degree_perc         215 non-null    float64       \n",
      " 7   degree_type         215 non-null    object        \n",
      " 8   work_experience     215 non-null    bool          \n",
      " 9   experience_years    215 non-null    int64         \n",
      " 10  employability_perc  215 non-null    float64       \n",
      " 11  mba_spec            215 non-null    object        \n",
      " 12  mba_perc            215 non-null    float64       \n",
      " 13  salary              122 non-null    float64       \n",
      " 14  placed              215 non-null    bool          \n",
      " 15  start_date          122 non-null    datetime64[ns]\n",
      " 16  end_date            122 non-null    datetime64[ns]\n",
      " 17  duration            122 non-null    float64       \n",
      "dtypes: bool(2), datetime64[ns](2), float64(7), int64(2), object(5)\n",
      "memory usage: 27.4+ KB\n"
     ]
    }
   ],
   "source": [
    "new_data1.info()"
   ]
  },
  {
   "cell_type": "code",
   "execution_count": 70,
   "metadata": {},
   "outputs": [
    {
     "data": {
      "text/plain": [
       "215"
      ]
     },
     "execution_count": 70,
     "metadata": {},
     "output_type": "execute_result"
    }
   ],
   "source": [
    "data['student_id'].nunique()"
   ]
  },
  {
   "cell_type": "code",
   "execution_count": 71,
   "metadata": {},
   "outputs": [
    {
     "data": {
      "text/plain": [
       "215"
      ]
     },
     "execution_count": 71,
     "metadata": {},
     "output_type": "execute_result"
    }
   ],
   "source": [
    "new_data1['student_id'].nunique()"
   ]
  },
  {
   "cell_type": "markdown",
   "metadata": {},
   "source": [
    "How many synthetic addresses are from original dataset?"
   ]
  },
  {
   "cell_type": "code",
   "execution_count": 77,
   "metadata": {},
   "outputs": [
    {
     "data": {
      "text/plain": [
       "136"
      ]
     },
     "execution_count": 77,
     "metadata": {},
     "output_type": "execute_result"
    }
   ],
   "source": [
    "len(set(data['address']).intersection(set(new_data1['address'])))"
   ]
  },
  {
   "cell_type": "markdown",
   "metadata": {},
   "source": [
    "Explore Faker package"
   ]
  },
  {
   "cell_type": "code",
   "execution_count": 79,
   "metadata": {},
   "outputs": [],
   "source": [
    "from faker import Faker"
   ]
  },
  {
   "cell_type": "code",
   "execution_count": 80,
   "metadata": {},
   "outputs": [],
   "source": [
    "fake = Faker()"
   ]
  },
  {
   "cell_type": "code",
   "execution_count": 84,
   "metadata": {},
   "outputs": [
    {
     "data": {
      "text/plain": [
       "'8078 Anderson Club Apt. 216\\nNorth Jamieside, IA 37326'"
      ]
     },
     "execution_count": 84,
     "metadata": {},
     "output_type": "execute_result"
    }
   ],
   "source": [
    "fake.address()"
   ]
  },
  {
   "cell_type": "markdown",
   "metadata": {},
   "source": [
    "Include fields to anonymize in SDV model"
   ]
  },
  {
   "cell_type": "code",
   "execution_count": 85,
   "metadata": {},
   "outputs": [],
   "source": [
    "model2 = GaussianCopula(primary_key='student_id', anonymize_fields={'address': 'address'})"
   ]
  },
  {
   "cell_type": "code",
   "execution_count": 86,
   "metadata": {},
   "outputs": [],
   "source": [
    "model2.fit(data)"
   ]
  },
  {
   "cell_type": "code",
   "execution_count": 87,
   "metadata": {},
   "outputs": [],
   "source": [
    "new_data2 = model2.sample(len(data))"
   ]
  },
  {
   "cell_type": "code",
   "execution_count": 88,
   "metadata": {},
   "outputs": [
    {
     "name": "stdout",
     "output_type": "stream",
     "text": [
      "<class 'pandas.core.frame.DataFrame'>\n",
      "RangeIndex: 215 entries, 0 to 214\n",
      "Data columns (total 18 columns):\n",
      " #   Column              Non-Null Count  Dtype         \n",
      "---  ------              --------------  -----         \n",
      " 0   student_id          215 non-null    int64         \n",
      " 1   address             215 non-null    object        \n",
      " 2   gender              215 non-null    object        \n",
      " 3   second_perc         215 non-null    float64       \n",
      " 4   high_perc           215 non-null    float64       \n",
      " 5   high_spec           215 non-null    object        \n",
      " 6   degree_perc         215 non-null    float64       \n",
      " 7   degree_type         215 non-null    object        \n",
      " 8   work_experience     215 non-null    bool          \n",
      " 9   experience_years    215 non-null    int64         \n",
      " 10  employability_perc  215 non-null    float64       \n",
      " 11  mba_spec            215 non-null    object        \n",
      " 12  mba_perc            215 non-null    float64       \n",
      " 13  salary              124 non-null    float64       \n",
      " 14  placed              215 non-null    bool          \n",
      " 15  start_date          124 non-null    datetime64[ns]\n",
      " 16  end_date            124 non-null    datetime64[ns]\n",
      " 17  duration            124 non-null    float64       \n",
      "dtypes: bool(2), datetime64[ns](2), float64(7), int64(2), object(5)\n",
      "memory usage: 27.4+ KB\n"
     ]
    }
   ],
   "source": [
    "new_data2.info()"
   ]
  },
  {
   "cell_type": "code",
   "execution_count": 90,
   "metadata": {},
   "outputs": [
    {
     "data": {
      "text/plain": [
       "215"
      ]
     },
     "execution_count": 90,
     "metadata": {},
     "output_type": "execute_result"
    }
   ],
   "source": [
    "new_data2['student_id'].nunique()"
   ]
  },
  {
   "cell_type": "code",
   "execution_count": 91,
   "metadata": {},
   "outputs": [
    {
     "data": {
      "text/plain": [
       "0"
      ]
     },
     "execution_count": 91,
     "metadata": {},
     "output_type": "execute_result"
    }
   ],
   "source": [
    "len(set(data['address']).intersection(set(new_data2['address'])))"
   ]
  },
  {
   "cell_type": "markdown",
   "metadata": {},
   "source": [
    "#### Statistical Metrics\n",
    "\n",
    "Are the distributions of the synthetic data statistically different than the underlying distributions from original data?\n",
    "\n",
    "SDV uses two statistical tests to compare distributions.\n",
    "\n",
    "##### Kolmogorov-Smirnov Test (KS Test)\n",
    "Compare two continuous distributions.\n",
    "\n",
    "- Null Hypothesis: No difference between the two distributions\n",
    "- Alternative Hypothesis: The two distributions are statistically different\n",
    "\n",
    "\n",
    "##### Chi-Squared Goodness of Fit Test\n",
    "Compare two discrete/categorical distributions.\n",
    "\n",
    "- Null Hypothesis: No difference between the two distributions\n",
    "- Alternative Hypothesis: The two distributions are statistically different"
   ]
  },
  {
   "cell_type": "code",
   "execution_count": 93,
   "metadata": {},
   "outputs": [
    {
     "data": {
      "text/plain": [
       "student_id                     int64\n",
       "address                       object\n",
       "gender                        object\n",
       "second_perc                  float64\n",
       "high_perc                    float64\n",
       "high_spec                     object\n",
       "degree_perc                  float64\n",
       "degree_type                   object\n",
       "work_experience                 bool\n",
       "experience_years               int64\n",
       "employability_perc           float64\n",
       "mba_spec                      object\n",
       "mba_perc                     float64\n",
       "salary                       float64\n",
       "placed                          bool\n",
       "start_date            datetime64[ns]\n",
       "end_date              datetime64[ns]\n",
       "duration                     float64\n",
       "dtype: object"
      ]
     },
     "execution_count": 93,
     "metadata": {},
     "output_type": "execute_result"
    }
   ],
   "source": [
    "new_data2.dtypes"
   ]
  },
  {
   "cell_type": "code",
   "execution_count": 92,
   "metadata": {},
   "outputs": [
    {
     "data": {
      "text/html": [
       "<div>\n",
       "<style scoped>\n",
       "    .dataframe tbody tr th:only-of-type {\n",
       "        vertical-align: middle;\n",
       "    }\n",
       "\n",
       "    .dataframe tbody tr th {\n",
       "        vertical-align: top;\n",
       "    }\n",
       "\n",
       "    .dataframe thead th {\n",
       "        text-align: right;\n",
       "    }\n",
       "</style>\n",
       "<table border=\"1\" class=\"dataframe\">\n",
       "  <thead>\n",
       "    <tr style=\"text-align: right;\">\n",
       "      <th></th>\n",
       "      <th>metric</th>\n",
       "      <th>name</th>\n",
       "      <th>raw_score</th>\n",
       "      <th>normalized_score</th>\n",
       "      <th>min_value</th>\n",
       "      <th>max_value</th>\n",
       "      <th>goal</th>\n",
       "      <th>error</th>\n",
       "    </tr>\n",
       "  </thead>\n",
       "  <tbody>\n",
       "    <tr>\n",
       "      <th>0</th>\n",
       "      <td>KSComplement</td>\n",
       "      <td>Inverted Kolmogorov-Smirnov D statistic</td>\n",
       "      <td>0.758563</td>\n",
       "      <td>0.758563</td>\n",
       "      <td>0.0</td>\n",
       "      <td>1.0</td>\n",
       "      <td>MAXIMIZE</td>\n",
       "      <td>None</td>\n",
       "    </tr>\n",
       "    <tr>\n",
       "      <th>1</th>\n",
       "      <td>CSTest</td>\n",
       "      <td>Chi-Squared</td>\n",
       "      <td>0.781631</td>\n",
       "      <td>0.781631</td>\n",
       "      <td>0.0</td>\n",
       "      <td>1.0</td>\n",
       "      <td>MAXIMIZE</td>\n",
       "      <td>None</td>\n",
       "    </tr>\n",
       "  </tbody>\n",
       "</table>\n",
       "</div>"
      ],
      "text/plain": [
       "         metric                                     name  raw_score  \\\n",
       "0  KSComplement  Inverted Kolmogorov-Smirnov D statistic   0.758563   \n",
       "1        CSTest                              Chi-Squared   0.781631   \n",
       "\n",
       "   normalized_score  min_value  max_value      goal error  \n",
       "0          0.758563        0.0        1.0  MAXIMIZE  None  \n",
       "1          0.781631        0.0        1.0  MAXIMIZE  None  "
      ]
     },
     "execution_count": 92,
     "metadata": {},
     "output_type": "execute_result"
    }
   ],
   "source": [
    "evaluate(new_data2, data, aggregate=False)"
   ]
  },
  {
   "cell_type": "code",
   "execution_count": 94,
   "metadata": {},
   "outputs": [
    {
     "data": {
      "text/plain": [
       "0.7700970527305153"
      ]
     },
     "execution_count": 94,
     "metadata": {},
     "output_type": "execute_result"
    }
   ],
   "source": [
    "evaluate(new_data2, data)"
   ]
  },
  {
   "cell_type": "markdown",
   "metadata": {},
   "source": [
    "Explore modeled distributions"
   ]
  },
  {
   "cell_type": "code",
   "execution_count": 95,
   "metadata": {},
   "outputs": [
    {
     "data": {
      "text/plain": [
       "{'address.value': 'copulas.univariate.truncated_gaussian.TruncatedGaussian',\n",
       " 'gender.value': 'copulas.univariate.truncated_gaussian.TruncatedGaussian',\n",
       " 'second_perc.value': 'copulas.univariate.truncated_gaussian.TruncatedGaussian',\n",
       " 'high_perc.value': 'copulas.univariate.truncated_gaussian.TruncatedGaussian',\n",
       " 'high_spec.value': 'copulas.univariate.truncated_gaussian.TruncatedGaussian',\n",
       " 'degree_perc.value': 'copulas.univariate.truncated_gaussian.TruncatedGaussian',\n",
       " 'degree_type.value': 'copulas.univariate.truncated_gaussian.TruncatedGaussian',\n",
       " 'work_experience.value': 'copulas.univariate.truncated_gaussian.TruncatedGaussian',\n",
       " 'experience_years.value': 'copulas.univariate.truncated_gaussian.TruncatedGaussian',\n",
       " 'employability_perc.value': 'copulas.univariate.truncated_gaussian.TruncatedGaussian',\n",
       " 'mba_spec.value': 'copulas.univariate.truncated_gaussian.TruncatedGaussian',\n",
       " 'mba_perc.value': 'copulas.univariate.truncated_gaussian.TruncatedGaussian',\n",
       " 'salary.value': 'copulas.univariate.truncated_gaussian.TruncatedGaussian',\n",
       " 'salary.is_null': 'copulas.univariate.truncated_gaussian.TruncatedGaussian',\n",
       " 'placed.value': 'copulas.univariate.truncated_gaussian.TruncatedGaussian',\n",
       " 'start_date.value': 'copulas.univariate.truncated_gaussian.TruncatedGaussian',\n",
       " 'start_date.is_null': 'copulas.univariate.truncated_gaussian.TruncatedGaussian',\n",
       " 'end_date.value': 'copulas.univariate.truncated_gaussian.TruncatedGaussian',\n",
       " 'end_date.is_null': 'copulas.univariate.truncated_gaussian.TruncatedGaussian',\n",
       " 'duration.value': 'copulas.univariate.truncated_gaussian.TruncatedGaussian',\n",
       " 'duration.is_null': 'copulas.univariate.truncated_gaussian.TruncatedGaussian'}"
      ]
     },
     "execution_count": 95,
     "metadata": {},
     "output_type": "execute_result"
    }
   ],
   "source": [
    "model2.get_distributions()"
   ]
  },
  {
   "cell_type": "code",
   "execution_count": 99,
   "metadata": {},
   "outputs": [],
   "source": [
    "mask1 = (data['work_experience'] == False) & (data['experience_years'] > 0)\n",
    "mask2 = (data['work_experience'] == True) & (data['experience_years'] == 0)"
   ]
  },
  {
   "cell_type": "code",
   "execution_count": 101,
   "metadata": {},
   "outputs": [
    {
     "data": {
      "text/html": [
       "<div>\n",
       "<style scoped>\n",
       "    .dataframe tbody tr th:only-of-type {\n",
       "        vertical-align: middle;\n",
       "    }\n",
       "\n",
       "    .dataframe tbody tr th {\n",
       "        vertical-align: top;\n",
       "    }\n",
       "\n",
       "    .dataframe thead th {\n",
       "        text-align: right;\n",
       "    }\n",
       "</style>\n",
       "<table border=\"1\" class=\"dataframe\">\n",
       "  <thead>\n",
       "    <tr style=\"text-align: right;\">\n",
       "      <th></th>\n",
       "      <th>student_id</th>\n",
       "      <th>address</th>\n",
       "      <th>gender</th>\n",
       "      <th>second_perc</th>\n",
       "      <th>high_perc</th>\n",
       "      <th>high_spec</th>\n",
       "      <th>degree_perc</th>\n",
       "      <th>degree_type</th>\n",
       "      <th>work_experience</th>\n",
       "      <th>experience_years</th>\n",
       "      <th>employability_perc</th>\n",
       "      <th>mba_spec</th>\n",
       "      <th>mba_perc</th>\n",
       "      <th>salary</th>\n",
       "      <th>placed</th>\n",
       "      <th>start_date</th>\n",
       "      <th>end_date</th>\n",
       "      <th>duration</th>\n",
       "    </tr>\n",
       "  </thead>\n",
       "  <tbody>\n",
       "  </tbody>\n",
       "</table>\n",
       "</div>"
      ],
      "text/plain": [
       "Empty DataFrame\n",
       "Columns: [student_id, address, gender, second_perc, high_perc, high_spec, degree_perc, degree_type, work_experience, experience_years, employability_perc, mba_spec, mba_perc, salary, placed, start_date, end_date, duration]\n",
       "Index: []"
      ]
     },
     "execution_count": 101,
     "metadata": {},
     "output_type": "execute_result"
    }
   ],
   "source": [
    "data[mask2]"
   ]
  },
  {
   "cell_type": "code",
   "execution_count": 102,
   "metadata": {},
   "outputs": [],
   "source": [
    "mask3 = (new_data2['work_experience'] == False) & (new_data2['experience_years'] > 0)\n",
    "mask4 = (new_data2['work_experience'] == True) & (new_data2['experience_years'] == 0)"
   ]
  },
  {
   "cell_type": "code",
   "execution_count": 106,
   "metadata": {},
   "outputs": [
    {
     "data": {
      "text/html": [
       "<div>\n",
       "<style scoped>\n",
       "    .dataframe tbody tr th:only-of-type {\n",
       "        vertical-align: middle;\n",
       "    }\n",
       "\n",
       "    .dataframe tbody tr th {\n",
       "        vertical-align: top;\n",
       "    }\n",
       "\n",
       "    .dataframe thead th {\n",
       "        text-align: right;\n",
       "    }\n",
       "</style>\n",
       "<table border=\"1\" class=\"dataframe\">\n",
       "  <thead>\n",
       "    <tr style=\"text-align: right;\">\n",
       "      <th></th>\n",
       "      <th>student_id</th>\n",
       "      <th>address</th>\n",
       "      <th>gender</th>\n",
       "      <th>second_perc</th>\n",
       "      <th>high_perc</th>\n",
       "      <th>high_spec</th>\n",
       "      <th>degree_perc</th>\n",
       "      <th>degree_type</th>\n",
       "      <th>work_experience</th>\n",
       "      <th>experience_years</th>\n",
       "      <th>employability_perc</th>\n",
       "      <th>mba_spec</th>\n",
       "      <th>mba_perc</th>\n",
       "      <th>salary</th>\n",
       "      <th>placed</th>\n",
       "      <th>start_date</th>\n",
       "      <th>end_date</th>\n",
       "      <th>duration</th>\n",
       "    </tr>\n",
       "  </thead>\n",
       "  <tbody>\n",
       "    <tr>\n",
       "      <th>52</th>\n",
       "      <td>52</td>\n",
       "      <td>5566 Holly Valley Suite 609\\nThomasport, NC 12929</td>\n",
       "      <td>M</td>\n",
       "      <td>68.40</td>\n",
       "      <td>59.54</td>\n",
       "      <td>Science</td>\n",
       "      <td>73.66</td>\n",
       "      <td>Comm&amp;Mgmt</td>\n",
       "      <td>True</td>\n",
       "      <td>0</td>\n",
       "      <td>77.72</td>\n",
       "      <td>Mkt&amp;Fin</td>\n",
       "      <td>64.12</td>\n",
       "      <td>37639.0</td>\n",
       "      <td>True</td>\n",
       "      <td>2020-05-12 23:27:46.063097344</td>\n",
       "      <td>2020-05-08 22:42:05.161846016</td>\n",
       "      <td>3.0</td>\n",
       "    </tr>\n",
       "    <tr>\n",
       "      <th>201</th>\n",
       "      <td>201</td>\n",
       "      <td>857 Mario Centers Suite 192\\nYolandamouth, ND ...</td>\n",
       "      <td>M</td>\n",
       "      <td>77.71</td>\n",
       "      <td>80.68</td>\n",
       "      <td>Commerce</td>\n",
       "      <td>73.96</td>\n",
       "      <td>Comm&amp;Mgmt</td>\n",
       "      <td>True</td>\n",
       "      <td>0</td>\n",
       "      <td>81.97</td>\n",
       "      <td>Mkt&amp;Fin</td>\n",
       "      <td>63.73</td>\n",
       "      <td>36076.0</td>\n",
       "      <td>True</td>\n",
       "      <td>2020-05-12 05:20:47.134124288</td>\n",
       "      <td>2020-10-04 00:12:37.185780480</td>\n",
       "      <td>4.0</td>\n",
       "    </tr>\n",
       "  </tbody>\n",
       "</table>\n",
       "</div>"
      ],
      "text/plain": [
       "     student_id                                            address gender  \\\n",
       "52           52  5566 Holly Valley Suite 609\\nThomasport, NC 12929      M   \n",
       "201         201  857 Mario Centers Suite 192\\nYolandamouth, ND ...      M   \n",
       "\n",
       "     second_perc  high_perc high_spec  degree_perc degree_type  \\\n",
       "52         68.40      59.54   Science        73.66   Comm&Mgmt   \n",
       "201        77.71      80.68  Commerce        73.96   Comm&Mgmt   \n",
       "\n",
       "     work_experience  experience_years  employability_perc mba_spec  mba_perc  \\\n",
       "52              True                 0               77.72  Mkt&Fin     64.12   \n",
       "201             True                 0               81.97  Mkt&Fin     63.73   \n",
       "\n",
       "      salary  placed                    start_date  \\\n",
       "52   37639.0    True 2020-05-12 23:27:46.063097344   \n",
       "201  36076.0    True 2020-05-12 05:20:47.134124288   \n",
       "\n",
       "                         end_date  duration  \n",
       "52  2020-05-08 22:42:05.161846016       3.0  \n",
       "201 2020-10-04 00:12:37.185780480       4.0  "
      ]
     },
     "execution_count": 106,
     "metadata": {},
     "output_type": "execute_result"
    }
   ],
   "source": [
    "new_data2[mask4]"
   ]
  },
  {
   "cell_type": "code",
   "execution_count": 108,
   "metadata": {},
   "outputs": [
    {
     "data": {
      "text/plain": [
       "0.0"
      ]
     },
     "execution_count": 108,
     "metadata": {},
     "output_type": "execute_result"
    }
   ],
   "source": [
    "LogisticDetection().compute(data.drop(columns='address'), new_data2.drop(columns='address'))"
   ]
  },
  {
   "cell_type": "code",
   "execution_count": null,
   "metadata": {},
   "outputs": [],
   "source": []
  },
  {
   "cell_type": "code",
   "execution_count": null,
   "metadata": {},
   "outputs": [],
   "source": []
  },
  {
   "cell_type": "code",
   "execution_count": null,
   "metadata": {},
   "outputs": [],
   "source": []
  },
  {
   "cell_type": "code",
   "execution_count": null,
   "metadata": {},
   "outputs": [],
   "source": []
  },
  {
   "cell_type": "code",
   "execution_count": null,
   "metadata": {},
   "outputs": [],
   "source": []
  }
 ],
 "metadata": {
  "kernelspec": {
   "display_name": "Python (synthetic-data)",
   "language": "python",
   "name": "synthetic-data"
  },
  "language_info": {
   "codemirror_mode": {
    "name": "ipython",
    "version": 3
   },
   "file_extension": ".py",
   "mimetype": "text/x-python",
   "name": "python",
   "nbconvert_exporter": "python",
   "pygments_lexer": "ipython3",
   "version": "3.8.0"
  }
 },
 "nbformat": 4,
 "nbformat_minor": 4
}
